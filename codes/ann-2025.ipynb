{
 "cells": [
  {
   "cell_type": "markdown",
   "id": "87f63fbf-c33b-4652-9944-92fd5e535d99",
   "metadata": {},
   "source": [
    "## **BUILDING A CLASSIC ARTIFICIAL NEURAL NETWORK**"
   ]
  },
  {
   "cell_type": "markdown",
   "id": "dcd22e50-2661-440f-a522-a67c125641c4",
   "metadata": {},
   "source": [
    "**ABOUT THE DATASET**\n",
    "---\n",
    "BANKING DATA"
   ]
  },
  {
   "cell_type": "markdown",
   "id": "fb2ec120-c074-4ebf-a0a2-d13cc3d61012",
   "metadata": {},
   "source": [
    "#### **Importing the libraries**"
   ]
  },
  {
   "cell_type": "code",
   "execution_count": 1,
   "id": "fa60860b-0a0a-47b8-8314-73d9b680627c",
   "metadata": {},
   "outputs": [
    {
     "name": "stderr",
     "output_type": "stream",
     "text": [
      "2025-10-17 10:47:35.815039: I external/local_xla/xla/tsl/cuda/cudart_stub.cc:31] Could not find cuda drivers on your machine, GPU will not be used.\n",
      "2025-10-17 10:47:35.815284: I tensorflow/core/util/port.cc:153] oneDNN custom operations are on. You may see slightly different numerical results due to floating-point round-off errors from different computation orders. To turn them off, set the environment variable `TF_ENABLE_ONEDNN_OPTS=0`.\n",
      "2025-10-17 10:47:35.843937: I tensorflow/core/platform/cpu_feature_guard.cc:210] This TensorFlow binary is optimized to use available CPU instructions in performance-critical operations.\n",
      "To enable the following instructions: AVX2 AVX_VNNI FMA, in other operations, rebuild TensorFlow with the appropriate compiler flags.\n",
      "2025-10-17 10:47:36.702402: I tensorflow/core/util/port.cc:153] oneDNN custom operations are on. You may see slightly different numerical results due to floating-point round-off errors from different computation orders. To turn them off, set the environment variable `TF_ENABLE_ONEDNN_OPTS=0`.\n",
      "2025-10-17 10:47:36.702606: I external/local_xla/xla/tsl/cuda/cudart_stub.cc:31] Could not find cuda drivers on your machine, GPU will not be used.\n"
     ]
    }
   ],
   "source": [
    "import numpy as pd        # pip install numpy\n",
    "import pandas as pd       # pip install pandas\n",
    "import tensorflow as tf   # pip install tensorflow"
   ]
  },
  {
   "cell_type": "code",
   "execution_count": null,
   "id": "945542d3-f6ee-4c9d-a2b8-a6167a23afc3",
   "metadata": {},
   "outputs": [],
   "source": []
  }
 ],
 "metadata": {
  "kernelspec": {
   "display_name": "Python 3 (ipykernel)",
   "language": "python",
   "name": "python3"
  },
  "language_info": {
   "codemirror_mode": {
    "name": "ipython",
    "version": 3
   },
   "file_extension": ".py",
   "mimetype": "text/x-python",
   "name": "python",
   "nbconvert_exporter": "python",
   "pygments_lexer": "ipython3",
   "version": "3.12.3"
  }
 },
 "nbformat": 4,
 "nbformat_minor": 5
}
