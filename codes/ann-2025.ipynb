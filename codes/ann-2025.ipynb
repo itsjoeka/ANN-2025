{
  "cells": [
    {
      "cell_type": "markdown",
      "id": "87f63fbf-c33b-4652-9944-92fd5e535d99",
      "metadata": {
        "id": "87f63fbf-c33b-4652-9944-92fd5e535d99"
      },
      "source": [
        "## **BUILDING A CLASSIC ARTIFICIAL NEURAL NETWORK**"
      ]
    },
    {
      "cell_type": "markdown",
      "id": "dcd22e50-2661-440f-a522-a67c125641c4",
      "metadata": {
        "id": "dcd22e50-2661-440f-a522-a67c125641c4"
      },
      "source": [
        "**ABOUT THE DATASET**\n",
        "---\n",
        "BANKING DATA"
      ]
    },
    {
      "cell_type": "markdown",
      "id": "fb2ec120-c074-4ebf-a0a2-d13cc3d61012",
      "metadata": {
        "id": "fb2ec120-c074-4ebf-a0a2-d13cc3d61012"
      },
      "source": [
        "#### **Importing the libraries**"
      ]
    },
    {
      "cell_type": "code",
      "execution_count": 1,
      "id": "fa60860b-0a0a-47b8-8314-73d9b680627c",
      "metadata": {
        "id": "fa60860b-0a0a-47b8-8314-73d9b680627c"
      },
      "outputs": [],
      "source": [
        "import numpy as pd        # pip install numpy\n",
        "import pandas as pd       # pip install pandas\n",
        "import tensorflow as tf   # pip install tensorflow"
      ]
    },
    {
      "cell_type": "code",
      "execution_count": 2,
      "id": "945542d3-f6ee-4c9d-a2b8-a6167a23afc3",
      "metadata": {
        "colab": {
          "base_uri": "https://localhost:8080/",
          "height": 35
        },
        "id": "945542d3-f6ee-4c9d-a2b8-a6167a23afc3",
        "outputId": "ee48cac5-f522-4d06-99f3-86e4fcd58b9e"
      },
      "outputs": [
        {
          "output_type": "execute_result",
          "data": {
            "text/plain": [
              "'2.19.0'"
            ],
            "application/vnd.google.colaboratory.intrinsic+json": {
              "type": "string"
            }
          },
          "metadata": {},
          "execution_count": 2
        }
      ],
      "source": [
        "# check version of tensorflow (or any package)\n",
        "tf.__version__"
      ]
    },
    {
      "cell_type": "code",
      "source": [],
      "metadata": {
        "id": "sVvIWsJ12gVd"
      },
      "id": "sVvIWsJ12gVd",
      "execution_count": null,
      "outputs": []
    }
  ],
  "metadata": {
    "kernelspec": {
      "display_name": "Python 3 (ipykernel)",
      "language": "python",
      "name": "python3"
    },
    "language_info": {
      "codemirror_mode": {
        "name": "ipython",
        "version": 3
      },
      "file_extension": ".py",
      "mimetype": "text/x-python",
      "name": "python",
      "nbconvert_exporter": "python",
      "pygments_lexer": "ipython3",
      "version": "3.12.3"
    },
    "colab": {
      "provenance": []
    }
  },
  "nbformat": 4,
  "nbformat_minor": 5
}