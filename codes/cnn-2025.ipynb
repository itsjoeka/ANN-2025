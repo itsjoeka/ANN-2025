{
  "cells": [
    {
      "cell_type": "code",
      "execution_count": 2,
      "id": "28b1c175-1bda-4d0c-804c-e6a0fc2d7608",
      "metadata": {
        "id": "28b1c175-1bda-4d0c-804c-e6a0fc2d7608"
      },
      "outputs": [],
      "source": [
        "import pandas as pd\n",
        "import numpy as np"
      ]
    },
    {
      "cell_type": "code",
      "execution_count": 1,
      "id": "4fe7582b-fad7-47f8-9f69-ec7c490d6907",
      "metadata": {
        "id": "4fe7582b-fad7-47f8-9f69-ec7c490d6907",
        "outputId": "2ff0f4c5-51c9-4ef3-8bdf-3dca5bfe6663",
        "colab": {
          "base_uri": "https://localhost:8080/"
        }
      },
      "outputs": [
        {
          "output_type": "stream",
          "name": "stdout",
          "text": [
            "Cloning into 'NNets-2025'...\n",
            "remote: Enumerating objects: 10105, done.\u001b[K\n",
            "remote: Total 10105 (delta 0), reused 0 (delta 0), pack-reused 10105 (from 3)\u001b[K\n",
            "Receiving objects: 100% (10105/10105), 236.90 MiB | 14.32 MiB/s, done.\n",
            "Resolving deltas: 100% (28/28), done.\n",
            "Updating files: 100% (10089/10089), done.\n"
          ]
        }
      ],
      "source": [
        "# clone git repository to access dataset\n",
        "! git clone https://github.com/itsjoeka/NNets-2025.git"
      ]
    },
    {
      "cell_type": "code",
      "source": [
        "data_dir = \"/content/NNets-2025/data/part_2_Convolutional_Neural_Networks_(CNN\""
      ],
      "metadata": {
        "id": "5MpKzBqP2VsL"
      },
      "id": "5MpKzBqP2VsL",
      "execution_count": 3,
      "outputs": []
    },
    {
      "cell_type": "code",
      "source": [],
      "metadata": {
        "id": "X6sghJ_V2nZu"
      },
      "id": "X6sghJ_V2nZu",
      "execution_count": null,
      "outputs": []
    }
  ],
  "metadata": {
    "kernelspec": {
      "display_name": "Python 3",
      "name": "python3"
    },
    "language_info": {
      "codemirror_mode": {
        "name": "ipython",
        "version": 3
      },
      "file_extension": ".py",
      "mimetype": "text/x-python",
      "name": "python",
      "nbconvert_exporter": "python",
      "pygments_lexer": "ipython3",
      "version": "3.12.3"
    },
    "colab": {
      "provenance": [],
      "gpuType": "T4"
    },
    "accelerator": "GPU"
  },
  "nbformat": 4,
  "nbformat_minor": 5
}